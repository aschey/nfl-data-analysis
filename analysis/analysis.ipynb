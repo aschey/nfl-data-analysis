{
 "metadata": {
  "language_info": {
   "codemirror_mode": {
    "name": "ipython",
    "version": 3
   },
   "file_extension": ".py",
   "mimetype": "text/x-python",
   "name": "python",
   "nbconvert_exporter": "python",
   "pygments_lexer": "ipython3",
   "version": "3.8.6-final"
  },
  "orig_nbformat": 2,
  "kernelspec": {
   "name": "Python 3.8.6 64-bit",
   "display_name": "Python 3.8.6 64-bit",
   "metadata": {
    "interpreter": {
     "hash": "767d51c1340bd893661ea55ea3124f6de3c7a262a8b4abca0554b478b1e2ff90"
    }
   }
  }
 },
 "nbformat": 4,
 "nbformat_minor": 2,
 "cells": [
  {
   "cell_type": "code",
   "execution_count": 14,
   "metadata": {},
   "outputs": [],
   "source": [
    "import pandas as pd\n",
    "import os\n",
    "import sys\n",
    "module_path = os.path.abspath(os.path.join('.'))\n",
    "if module_path not in sys.path:\n",
    "    sys.path.append(module_path)\n",
    "from calculate import Scorer"
   ]
  },
  {
   "cell_type": "code",
   "execution_count": 25,
   "metadata": {},
   "outputs": [
    {
     "output_type": "execute_result",
     "data": {
      "text/plain": [
       "            Unnamed: 0 Quarter   Time        Tm  \\\n",
       "Unnamed: 0                                        \n",
       "0                    0     1.0   6:05  Dolphins   \n",
       "1                    1     1.0   1:04  Dolphins   \n",
       "2                    2     2.0  11:10    Eagles   \n",
       "3                    3     2.0   6:26  Dolphins   \n",
       "4                    4     3.0   3:47    Eagles   \n",
       "...                ...     ...    ...       ...   \n",
       "113569          113569     3.0    NaN   Cowboys   \n",
       "113570          113570     3.0    NaN   Vikings   \n",
       "113571          113571     4.0    NaN   Cowboys   \n",
       "113572          113572     4.0    NaN   Cowboys   \n",
       "113573          113573     4.0    NaN   Vikings   \n",
       "\n",
       "                                                       Detail  team1_score  \\\n",
       "Unnamed: 0                                                                   \n",
       "0                              Olindo Mare 37 yard field goal            0   \n",
       "1                J.J. Johnson 18 yard rush (Olindo Mare kick)            0   \n",
       "2                              David Akers 53 yard field goal            3   \n",
       "3                              Olindo Mare 37 yard field goal            3   \n",
       "4           Brian Dawkins 67 yard interception return (Nor...           10   \n",
       "...                                                       ...          ...   \n",
       "113569         Daryl Johnston 1 yard rush (Eddie Murray kick)           27   \n",
       "113570          Scottie Graham 1 yard rush (Fuad Reveiz kick)           27   \n",
       "113571                        Eddie Murray 46 yard field goal           30   \n",
       "113572        Lincoln Coleman 1 yard rush (Eddie Murray kick)           37   \n",
       "113573      Anthony Carter 9 yard pass from Sean Salisbury...           37   \n",
       "\n",
       "            team2_score     week          date                team1  \\\n",
       "Unnamed: 0                                                            \n",
       "0                     3   Week 7  Oct 24, 1999  Philadelphia Eagles   \n",
       "1                    10   Week 7  Oct 24, 1999  Philadelphia Eagles   \n",
       "2                    10   Week 7  Oct 24, 1999  Philadelphia Eagles   \n",
       "3                    13   Week 7  Oct 24, 1999  Philadelphia Eagles   \n",
       "4                    13   Week 7  Oct 24, 1999  Philadelphia Eagles   \n",
       "...                 ...      ...           ...                  ...   \n",
       "113569                6  Week 15  Dec 12, 1993       Dallas Cowboys   \n",
       "113570               13  Week 15  Dec 12, 1993       Dallas Cowboys   \n",
       "113571               13  Week 15  Dec 12, 1993       Dallas Cowboys   \n",
       "113572               13  Week 15  Dec 12, 1993       Dallas Cowboys   \n",
       "113573               20  Week 15  Dec 12, 1993       Dallas Cowboys   \n",
       "\n",
       "                        team2  year  \n",
       "Unnamed: 0                           \n",
       "0              Miami Dolphins  1999  \n",
       "1              Miami Dolphins  1999  \n",
       "2              Miami Dolphins  1999  \n",
       "3              Miami Dolphins  1999  \n",
       "4              Miami Dolphins  1999  \n",
       "...                       ...   ...  \n",
       "113569      Minnesota Vikings  1993  \n",
       "113570      Minnesota Vikings  1993  \n",
       "113571      Minnesota Vikings  1993  \n",
       "113572      Minnesota Vikings  1993  \n",
       "113573      Minnesota Vikings  1993  \n",
       "\n",
       "[113573 rows x 12 columns]"
      ],
      "text/html": "<div>\n<style scoped>\n    .dataframe tbody tr th:only-of-type {\n        vertical-align: middle;\n    }\n\n    .dataframe tbody tr th {\n        vertical-align: top;\n    }\n\n    .dataframe thead th {\n        text-align: right;\n    }\n</style>\n<table border=\"1\" class=\"dataframe\">\n  <thead>\n    <tr style=\"text-align: right;\">\n      <th></th>\n      <th>Unnamed: 0</th>\n      <th>Quarter</th>\n      <th>Time</th>\n      <th>Tm</th>\n      <th>Detail</th>\n      <th>team1_score</th>\n      <th>team2_score</th>\n      <th>week</th>\n      <th>date</th>\n      <th>team1</th>\n      <th>team2</th>\n      <th>year</th>\n    </tr>\n    <tr>\n      <th>Unnamed: 0</th>\n      <th></th>\n      <th></th>\n      <th></th>\n      <th></th>\n      <th></th>\n      <th></th>\n      <th></th>\n      <th></th>\n      <th></th>\n      <th></th>\n      <th></th>\n      <th></th>\n    </tr>\n  </thead>\n  <tbody>\n    <tr>\n      <th>0</th>\n      <td>0</td>\n      <td>1.0</td>\n      <td>6:05</td>\n      <td>Dolphins</td>\n      <td>Olindo Mare 37 yard field goal</td>\n      <td>0</td>\n      <td>3</td>\n      <td>Week 7</td>\n      <td>Oct 24, 1999</td>\n      <td>Philadelphia Eagles</td>\n      <td>Miami Dolphins</td>\n      <td>1999</td>\n    </tr>\n    <tr>\n      <th>1</th>\n      <td>1</td>\n      <td>1.0</td>\n      <td>1:04</td>\n      <td>Dolphins</td>\n      <td>J.J. Johnson 18 yard rush (Olindo Mare kick)</td>\n      <td>0</td>\n      <td>10</td>\n      <td>Week 7</td>\n      <td>Oct 24, 1999</td>\n      <td>Philadelphia Eagles</td>\n      <td>Miami Dolphins</td>\n      <td>1999</td>\n    </tr>\n    <tr>\n      <th>2</th>\n      <td>2</td>\n      <td>2.0</td>\n      <td>11:10</td>\n      <td>Eagles</td>\n      <td>David Akers 53 yard field goal</td>\n      <td>3</td>\n      <td>10</td>\n      <td>Week 7</td>\n      <td>Oct 24, 1999</td>\n      <td>Philadelphia Eagles</td>\n      <td>Miami Dolphins</td>\n      <td>1999</td>\n    </tr>\n    <tr>\n      <th>3</th>\n      <td>3</td>\n      <td>2.0</td>\n      <td>6:26</td>\n      <td>Dolphins</td>\n      <td>Olindo Mare 37 yard field goal</td>\n      <td>3</td>\n      <td>13</td>\n      <td>Week 7</td>\n      <td>Oct 24, 1999</td>\n      <td>Philadelphia Eagles</td>\n      <td>Miami Dolphins</td>\n      <td>1999</td>\n    </tr>\n    <tr>\n      <th>4</th>\n      <td>4</td>\n      <td>3.0</td>\n      <td>3:47</td>\n      <td>Eagles</td>\n      <td>Brian Dawkins 67 yard interception return (Nor...</td>\n      <td>10</td>\n      <td>13</td>\n      <td>Week 7</td>\n      <td>Oct 24, 1999</td>\n      <td>Philadelphia Eagles</td>\n      <td>Miami Dolphins</td>\n      <td>1999</td>\n    </tr>\n    <tr>\n      <th>...</th>\n      <td>...</td>\n      <td>...</td>\n      <td>...</td>\n      <td>...</td>\n      <td>...</td>\n      <td>...</td>\n      <td>...</td>\n      <td>...</td>\n      <td>...</td>\n      <td>...</td>\n      <td>...</td>\n      <td>...</td>\n    </tr>\n    <tr>\n      <th>113569</th>\n      <td>113569</td>\n      <td>3.0</td>\n      <td>NaN</td>\n      <td>Cowboys</td>\n      <td>Daryl Johnston 1 yard rush (Eddie Murray kick)</td>\n      <td>27</td>\n      <td>6</td>\n      <td>Week 15</td>\n      <td>Dec 12, 1993</td>\n      <td>Dallas Cowboys</td>\n      <td>Minnesota Vikings</td>\n      <td>1993</td>\n    </tr>\n    <tr>\n      <th>113570</th>\n      <td>113570</td>\n      <td>3.0</td>\n      <td>NaN</td>\n      <td>Vikings</td>\n      <td>Scottie Graham 1 yard rush (Fuad Reveiz kick)</td>\n      <td>27</td>\n      <td>13</td>\n      <td>Week 15</td>\n      <td>Dec 12, 1993</td>\n      <td>Dallas Cowboys</td>\n      <td>Minnesota Vikings</td>\n      <td>1993</td>\n    </tr>\n    <tr>\n      <th>113571</th>\n      <td>113571</td>\n      <td>4.0</td>\n      <td>NaN</td>\n      <td>Cowboys</td>\n      <td>Eddie Murray 46 yard field goal</td>\n      <td>30</td>\n      <td>13</td>\n      <td>Week 15</td>\n      <td>Dec 12, 1993</td>\n      <td>Dallas Cowboys</td>\n      <td>Minnesota Vikings</td>\n      <td>1993</td>\n    </tr>\n    <tr>\n      <th>113572</th>\n      <td>113572</td>\n      <td>4.0</td>\n      <td>NaN</td>\n      <td>Cowboys</td>\n      <td>Lincoln Coleman 1 yard rush (Eddie Murray kick)</td>\n      <td>37</td>\n      <td>13</td>\n      <td>Week 15</td>\n      <td>Dec 12, 1993</td>\n      <td>Dallas Cowboys</td>\n      <td>Minnesota Vikings</td>\n      <td>1993</td>\n    </tr>\n    <tr>\n      <th>113573</th>\n      <td>113573</td>\n      <td>4.0</td>\n      <td>NaN</td>\n      <td>Vikings</td>\n      <td>Anthony Carter 9 yard pass from Sean Salisbury...</td>\n      <td>37</td>\n      <td>20</td>\n      <td>Week 15</td>\n      <td>Dec 12, 1993</td>\n      <td>Dallas Cowboys</td>\n      <td>Minnesota Vikings</td>\n      <td>1993</td>\n    </tr>\n  </tbody>\n</table>\n<p>113573 rows × 12 columns</p>\n</div>"
     },
     "metadata": {},
     "execution_count": 25
    }
   ],
   "source": [
    "df = pd.read_csv('../data/scores.csv')\n",
    "df = df.set_index('Unnamed: 0', drop=False)\n",
    "df['year'] = df.apply(lambda row: row['week'].split()[0], axis=1)\n",
    "df['week'] = df.apply(lambda row: row['week'].split(None, 1)[1], axis=1)\n",
    "df"
   ]
  },
  {
   "cell_type": "code",
   "execution_count": 26,
   "metadata": {
    "tags": []
   },
   "outputs": [
    {
     "output_type": "execute_result",
     "data": {
      "text/plain": [
       "            Unnamed: 0 Quarter   Time        Tm  \\\n",
       "Unnamed: 0                                        \n",
       "0                    0     1.0   6:05  Dolphins   \n",
       "1                    1     1.0   1:04  Dolphins   \n",
       "2                    2     2.0  11:10    Eagles   \n",
       "3                    3     2.0   6:26  Dolphins   \n",
       "4                    4     3.0   3:47    Eagles   \n",
       "...                ...     ...    ...       ...   \n",
       "113569          113569     3.0    NaN   Cowboys   \n",
       "113570          113570     3.0    NaN   Vikings   \n",
       "113571          113571     4.0    NaN   Cowboys   \n",
       "113572          113572     4.0    NaN   Cowboys   \n",
       "113573          113573     4.0    NaN   Vikings   \n",
       "\n",
       "                                                       Detail  team1_score  \\\n",
       "Unnamed: 0                                                                   \n",
       "0                              Olindo Mare 37 yard field goal            0   \n",
       "1                J.J. Johnson 18 yard rush (Olindo Mare kick)            0   \n",
       "2                              David Akers 53 yard field goal            3   \n",
       "3                              Olindo Mare 37 yard field goal            3   \n",
       "4           Brian Dawkins 67 yard interception return (Nor...           10   \n",
       "...                                                       ...          ...   \n",
       "113569         Daryl Johnston 1 yard rush (Eddie Murray kick)           27   \n",
       "113570          Scottie Graham 1 yard rush (Fuad Reveiz kick)           27   \n",
       "113571                        Eddie Murray 46 yard field goal           30   \n",
       "113572        Lincoln Coleman 1 yard rush (Eddie Murray kick)           37   \n",
       "113573      Anthony Carter 9 yard pass from Sean Salisbury...           37   \n",
       "\n",
       "            team2_score     week          date                team1  \\\n",
       "Unnamed: 0                                                            \n",
       "0                     3   Week 7  Oct 24, 1999  Philadelphia Eagles   \n",
       "1                    10   Week 7  Oct 24, 1999  Philadelphia Eagles   \n",
       "2                    10   Week 7  Oct 24, 1999  Philadelphia Eagles   \n",
       "3                    13   Week 7  Oct 24, 1999  Philadelphia Eagles   \n",
       "4                    13   Week 7  Oct 24, 1999  Philadelphia Eagles   \n",
       "...                 ...      ...           ...                  ...   \n",
       "113569                6  Week 15  Dec 12, 1993       Dallas Cowboys   \n",
       "113570               13  Week 15  Dec 12, 1993       Dallas Cowboys   \n",
       "113571               13  Week 15  Dec 12, 1993       Dallas Cowboys   \n",
       "113572               13  Week 15  Dec 12, 1993       Dallas Cowboys   \n",
       "113573               20  Week 15  Dec 12, 1993       Dallas Cowboys   \n",
       "\n",
       "                        team2  year      score1      score2  \n",
       "Unnamed: 0                                                   \n",
       "0              Miami Dolphins  1999  -14.599862   14.599862  \n",
       "1              Miami Dolphins  1999  -36.926499   36.926499  \n",
       "2              Miami Dolphins  1999  -36.152985   36.152985  \n",
       "3              Miami Dolphins  1999  -50.553671   50.553671  \n",
       "4              Miami Dolphins  1999  -34.973128   34.973128  \n",
       "...                       ...   ...         ...         ...  \n",
       "113569      Minnesota Vikings  1993  148.828879 -148.828879  \n",
       "113570      Minnesota Vikings  1993  133.582293 -133.582293  \n",
       "113571      Minnesota Vikings  1993  108.055555 -108.055555  \n",
       "113572      Minnesota Vikings  1993  116.893354 -116.893354  \n",
       "113573      Minnesota Vikings  1993  108.055555 -108.055555  \n",
       "\n",
       "[113573 rows x 14 columns]"
      ],
      "text/html": "<div>\n<style scoped>\n    .dataframe tbody tr th:only-of-type {\n        vertical-align: middle;\n    }\n\n    .dataframe tbody tr th {\n        vertical-align: top;\n    }\n\n    .dataframe thead th {\n        text-align: right;\n    }\n</style>\n<table border=\"1\" class=\"dataframe\">\n  <thead>\n    <tr style=\"text-align: right;\">\n      <th></th>\n      <th>Unnamed: 0</th>\n      <th>Quarter</th>\n      <th>Time</th>\n      <th>Tm</th>\n      <th>Detail</th>\n      <th>team1_score</th>\n      <th>team2_score</th>\n      <th>week</th>\n      <th>date</th>\n      <th>team1</th>\n      <th>team2</th>\n      <th>year</th>\n      <th>score1</th>\n      <th>score2</th>\n    </tr>\n    <tr>\n      <th>Unnamed: 0</th>\n      <th></th>\n      <th></th>\n      <th></th>\n      <th></th>\n      <th></th>\n      <th></th>\n      <th></th>\n      <th></th>\n      <th></th>\n      <th></th>\n      <th></th>\n      <th></th>\n      <th></th>\n      <th></th>\n    </tr>\n  </thead>\n  <tbody>\n    <tr>\n      <th>0</th>\n      <td>0</td>\n      <td>1.0</td>\n      <td>6:05</td>\n      <td>Dolphins</td>\n      <td>Olindo Mare 37 yard field goal</td>\n      <td>0</td>\n      <td>3</td>\n      <td>Week 7</td>\n      <td>Oct 24, 1999</td>\n      <td>Philadelphia Eagles</td>\n      <td>Miami Dolphins</td>\n      <td>1999</td>\n      <td>-14.599862</td>\n      <td>14.599862</td>\n    </tr>\n    <tr>\n      <th>1</th>\n      <td>1</td>\n      <td>1.0</td>\n      <td>1:04</td>\n      <td>Dolphins</td>\n      <td>J.J. Johnson 18 yard rush (Olindo Mare kick)</td>\n      <td>0</td>\n      <td>10</td>\n      <td>Week 7</td>\n      <td>Oct 24, 1999</td>\n      <td>Philadelphia Eagles</td>\n      <td>Miami Dolphins</td>\n      <td>1999</td>\n      <td>-36.926499</td>\n      <td>36.926499</td>\n    </tr>\n    <tr>\n      <th>2</th>\n      <td>2</td>\n      <td>2.0</td>\n      <td>11:10</td>\n      <td>Eagles</td>\n      <td>David Akers 53 yard field goal</td>\n      <td>3</td>\n      <td>10</td>\n      <td>Week 7</td>\n      <td>Oct 24, 1999</td>\n      <td>Philadelphia Eagles</td>\n      <td>Miami Dolphins</td>\n      <td>1999</td>\n      <td>-36.152985</td>\n      <td>36.152985</td>\n    </tr>\n    <tr>\n      <th>3</th>\n      <td>3</td>\n      <td>2.0</td>\n      <td>6:26</td>\n      <td>Dolphins</td>\n      <td>Olindo Mare 37 yard field goal</td>\n      <td>3</td>\n      <td>13</td>\n      <td>Week 7</td>\n      <td>Oct 24, 1999</td>\n      <td>Philadelphia Eagles</td>\n      <td>Miami Dolphins</td>\n      <td>1999</td>\n      <td>-50.553671</td>\n      <td>50.553671</td>\n    </tr>\n    <tr>\n      <th>4</th>\n      <td>4</td>\n      <td>3.0</td>\n      <td>3:47</td>\n      <td>Eagles</td>\n      <td>Brian Dawkins 67 yard interception return (Nor...</td>\n      <td>10</td>\n      <td>13</td>\n      <td>Week 7</td>\n      <td>Oct 24, 1999</td>\n      <td>Philadelphia Eagles</td>\n      <td>Miami Dolphins</td>\n      <td>1999</td>\n      <td>-34.973128</td>\n      <td>34.973128</td>\n    </tr>\n    <tr>\n      <th>...</th>\n      <td>...</td>\n      <td>...</td>\n      <td>...</td>\n      <td>...</td>\n      <td>...</td>\n      <td>...</td>\n      <td>...</td>\n      <td>...</td>\n      <td>...</td>\n      <td>...</td>\n      <td>...</td>\n      <td>...</td>\n      <td>...</td>\n      <td>...</td>\n    </tr>\n    <tr>\n      <th>113569</th>\n      <td>113569</td>\n      <td>3.0</td>\n      <td>NaN</td>\n      <td>Cowboys</td>\n      <td>Daryl Johnston 1 yard rush (Eddie Murray kick)</td>\n      <td>27</td>\n      <td>6</td>\n      <td>Week 15</td>\n      <td>Dec 12, 1993</td>\n      <td>Dallas Cowboys</td>\n      <td>Minnesota Vikings</td>\n      <td>1993</td>\n      <td>148.828879</td>\n      <td>-148.828879</td>\n    </tr>\n    <tr>\n      <th>113570</th>\n      <td>113570</td>\n      <td>3.0</td>\n      <td>NaN</td>\n      <td>Vikings</td>\n      <td>Scottie Graham 1 yard rush (Fuad Reveiz kick)</td>\n      <td>27</td>\n      <td>13</td>\n      <td>Week 15</td>\n      <td>Dec 12, 1993</td>\n      <td>Dallas Cowboys</td>\n      <td>Minnesota Vikings</td>\n      <td>1993</td>\n      <td>133.582293</td>\n      <td>-133.582293</td>\n    </tr>\n    <tr>\n      <th>113571</th>\n      <td>113571</td>\n      <td>4.0</td>\n      <td>NaN</td>\n      <td>Cowboys</td>\n      <td>Eddie Murray 46 yard field goal</td>\n      <td>30</td>\n      <td>13</td>\n      <td>Week 15</td>\n      <td>Dec 12, 1993</td>\n      <td>Dallas Cowboys</td>\n      <td>Minnesota Vikings</td>\n      <td>1993</td>\n      <td>108.055555</td>\n      <td>-108.055555</td>\n    </tr>\n    <tr>\n      <th>113572</th>\n      <td>113572</td>\n      <td>4.0</td>\n      <td>NaN</td>\n      <td>Cowboys</td>\n      <td>Lincoln Coleman 1 yard rush (Eddie Murray kick)</td>\n      <td>37</td>\n      <td>13</td>\n      <td>Week 15</td>\n      <td>Dec 12, 1993</td>\n      <td>Dallas Cowboys</td>\n      <td>Minnesota Vikings</td>\n      <td>1993</td>\n      <td>116.893354</td>\n      <td>-116.893354</td>\n    </tr>\n    <tr>\n      <th>113573</th>\n      <td>113573</td>\n      <td>4.0</td>\n      <td>NaN</td>\n      <td>Vikings</td>\n      <td>Anthony Carter 9 yard pass from Sean Salisbury...</td>\n      <td>37</td>\n      <td>20</td>\n      <td>Week 15</td>\n      <td>Dec 12, 1993</td>\n      <td>Dallas Cowboys</td>\n      <td>Minnesota Vikings</td>\n      <td>1993</td>\n      <td>108.055555</td>\n      <td>-108.055555</td>\n    </tr>\n  </tbody>\n</table>\n<p>113573 rows × 14 columns</p>\n</div>"
     },
     "metadata": {},
     "execution_count": 26
    }
   ],
   "source": [
    "\n",
    "for group_name, df_group in df.groupby(['date', 'team1', 'team2']):\n",
    "    rows = df_group.iterrows()\n",
    "    length = len(list(rows))\n",
    "    scorer1 = Scorer()\n",
    "    scorer2 = Scorer()\n",
    "    \n",
    "    for row_index, row in df_group.iterrows():\n",
    "        score1 = scorer1.calculate(float(row['team1_score']), float(row['team2_score']), row['Quarter'], row_index == length - 1)\n",
    "        score2 = scorer2.calculate(float(row['team2_score']), float(row['team1_score']), row['Quarter'], row_index == length - 1)\n",
    "        df.at[row['Unnamed: 0'], 'score1'] = score1\n",
    "        df.at[row['Unnamed: 0'], 'score2'] = score2\n",
    "df\n"
   ]
  },
  {
   "cell_type": "code",
   "execution_count": 27,
   "metadata": {},
   "outputs": [],
   "source": [
    "df.to_csv('../data/scores_with_index.csv')\n"
   ]
  },
  {
   "cell_type": "code",
   "execution_count": null,
   "metadata": {},
   "outputs": [],
   "source": []
  }
 ]
}