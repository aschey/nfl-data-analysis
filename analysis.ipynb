{
 "metadata": {
  "language_info": {
   "codemirror_mode": {
    "name": "ipython",
    "version": 3
   },
   "file_extension": ".py",
   "mimetype": "text/x-python",
   "name": "python",
   "nbconvert_exporter": "python",
   "pygments_lexer": "ipython3",
   "version": "3.8.6-final"
  },
  "orig_nbformat": 2,
  "kernelspec": {
   "name": "Python 3.8.6 64-bit",
   "display_name": "Python 3.8.6 64-bit",
   "metadata": {
    "interpreter": {
     "hash": "767d51c1340bd893661ea55ea3124f6de3c7a262a8b4abca0554b478b1e2ff90"
    }
   }
  }
 },
 "nbformat": 4,
 "nbformat_minor": 2,
 "cells": [
  {
   "cell_type": "code",
   "execution_count": 1,
   "metadata": {},
   "outputs": [],
   "source": [
    "import pandas as pd"
   ]
  },
  {
   "cell_type": "code",
   "execution_count": 11,
   "metadata": {},
   "outputs": [
    {
     "output_type": "execute_result",
     "data": {
      "text/plain": [
       "   Unnamed: 0 Quarter   Time        Tm  \\\n",
       "0           0     1.0   6:05  Dolphins   \n",
       "1           1     1.0   1:04  Dolphins   \n",
       "2           2     2.0  11:10    Eagles   \n",
       "3           3     2.0   6:26  Dolphins   \n",
       "4           4     3.0   3:47    Eagles   \n",
       "5           5     4.0  14:55  Dolphins   \n",
       "6           6     4.0   6:08    Eagles   \n",
       "\n",
       "                                              Detail  team1_score  \\\n",
       "0                     Olindo Mare 37 yard field goal            0   \n",
       "1       J.J. Johnson 18 yard rush (Olindo Mare kick)            0   \n",
       "2                     David Akers 53 yard field goal            3   \n",
       "3                     Olindo Mare 37 yard field goal            3   \n",
       "4  Brian Dawkins 67 yard interception return (Nor...           10   \n",
       "5                     Olindo Mare 53 yard field goal           10   \n",
       "6                    Norm Johnson 44 yard field goal           13   \n",
       "\n",
       "   team2_score         week          date                team1           team2  \n",
       "0            3  1999 Week 7  Oct 24, 1999  Philadelphia Eagles  Miami Dolphins  \n",
       "1           10  1999 Week 7  Oct 24, 1999  Philadelphia Eagles  Miami Dolphins  \n",
       "2           10  1999 Week 7  Oct 24, 1999  Philadelphia Eagles  Miami Dolphins  \n",
       "3           13  1999 Week 7  Oct 24, 1999  Philadelphia Eagles  Miami Dolphins  \n",
       "4           13  1999 Week 7  Oct 24, 1999  Philadelphia Eagles  Miami Dolphins  \n",
       "5           16  1999 Week 7  Oct 24, 1999  Philadelphia Eagles  Miami Dolphins  \n",
       "6           16  1999 Week 7  Oct 24, 1999  Philadelphia Eagles  Miami Dolphins  "
      ],
      "text/html": "<div>\n<style scoped>\n    .dataframe tbody tr th:only-of-type {\n        vertical-align: middle;\n    }\n\n    .dataframe tbody tr th {\n        vertical-align: top;\n    }\n\n    .dataframe thead th {\n        text-align: right;\n    }\n</style>\n<table border=\"1\" class=\"dataframe\">\n  <thead>\n    <tr style=\"text-align: right;\">\n      <th></th>\n      <th>Unnamed: 0</th>\n      <th>Quarter</th>\n      <th>Time</th>\n      <th>Tm</th>\n      <th>Detail</th>\n      <th>team1_score</th>\n      <th>team2_score</th>\n      <th>week</th>\n      <th>date</th>\n      <th>team1</th>\n      <th>team2</th>\n    </tr>\n  </thead>\n  <tbody>\n    <tr>\n      <th>0</th>\n      <td>0</td>\n      <td>1.0</td>\n      <td>6:05</td>\n      <td>Dolphins</td>\n      <td>Olindo Mare 37 yard field goal</td>\n      <td>0</td>\n      <td>3</td>\n      <td>1999 Week 7</td>\n      <td>Oct 24, 1999</td>\n      <td>Philadelphia Eagles</td>\n      <td>Miami Dolphins</td>\n    </tr>\n    <tr>\n      <th>1</th>\n      <td>1</td>\n      <td>1.0</td>\n      <td>1:04</td>\n      <td>Dolphins</td>\n      <td>J.J. Johnson 18 yard rush (Olindo Mare kick)</td>\n      <td>0</td>\n      <td>10</td>\n      <td>1999 Week 7</td>\n      <td>Oct 24, 1999</td>\n      <td>Philadelphia Eagles</td>\n      <td>Miami Dolphins</td>\n    </tr>\n    <tr>\n      <th>2</th>\n      <td>2</td>\n      <td>2.0</td>\n      <td>11:10</td>\n      <td>Eagles</td>\n      <td>David Akers 53 yard field goal</td>\n      <td>3</td>\n      <td>10</td>\n      <td>1999 Week 7</td>\n      <td>Oct 24, 1999</td>\n      <td>Philadelphia Eagles</td>\n      <td>Miami Dolphins</td>\n    </tr>\n    <tr>\n      <th>3</th>\n      <td>3</td>\n      <td>2.0</td>\n      <td>6:26</td>\n      <td>Dolphins</td>\n      <td>Olindo Mare 37 yard field goal</td>\n      <td>3</td>\n      <td>13</td>\n      <td>1999 Week 7</td>\n      <td>Oct 24, 1999</td>\n      <td>Philadelphia Eagles</td>\n      <td>Miami Dolphins</td>\n    </tr>\n    <tr>\n      <th>4</th>\n      <td>4</td>\n      <td>3.0</td>\n      <td>3:47</td>\n      <td>Eagles</td>\n      <td>Brian Dawkins 67 yard interception return (Nor...</td>\n      <td>10</td>\n      <td>13</td>\n      <td>1999 Week 7</td>\n      <td>Oct 24, 1999</td>\n      <td>Philadelphia Eagles</td>\n      <td>Miami Dolphins</td>\n    </tr>\n    <tr>\n      <th>5</th>\n      <td>5</td>\n      <td>4.0</td>\n      <td>14:55</td>\n      <td>Dolphins</td>\n      <td>Olindo Mare 53 yard field goal</td>\n      <td>10</td>\n      <td>16</td>\n      <td>1999 Week 7</td>\n      <td>Oct 24, 1999</td>\n      <td>Philadelphia Eagles</td>\n      <td>Miami Dolphins</td>\n    </tr>\n    <tr>\n      <th>6</th>\n      <td>6</td>\n      <td>4.0</td>\n      <td>6:08</td>\n      <td>Eagles</td>\n      <td>Norm Johnson 44 yard field goal</td>\n      <td>13</td>\n      <td>16</td>\n      <td>1999 Week 7</td>\n      <td>Oct 24, 1999</td>\n      <td>Philadelphia Eagles</td>\n      <td>Miami Dolphins</td>\n    </tr>\n  </tbody>\n</table>\n</div>"
     },
     "metadata": {},
     "execution_count": 11
    }
   ],
   "source": [
    "df = pd.read_csv('data/scores.csv')\n",
    "df[(df['team1'] == 'Philadelphia Eagles') & (df['team2'] == 'Miami Dolphins') & (df['week'] == '1999 Week 7')]\n",
    "# x = score_diff\n",
    "# q = quarter\n",
    "# m = max_lead\n",
    "# 50 + (x ** 2 / (5 - q)) - ((1 - x/m) * (5-q))"
   ]
  },
  {
   "cell_type": "code",
   "execution_count": null,
   "metadata": {},
   "outputs": [],
   "source": []
  }
 ]
}